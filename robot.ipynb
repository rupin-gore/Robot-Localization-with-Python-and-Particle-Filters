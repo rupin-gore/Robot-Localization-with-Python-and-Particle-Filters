{
 "cells": [
  {
   "cell_type": "markdown",
   "metadata": {},
   "source": [
    "Robot Localization with Python and Particle Filters\n",
    "==================================================="
   ]
  },
  {
   "cell_type": "markdown",
   "metadata": {},
   "source": [
    "Import libraries and load map."
   ]
  },
  {
   "cell_type": "code",
   "execution_count": 1,
   "metadata": {},
   "outputs": [
    {
     "name": "stdout",
     "output_type": "stream",
     "text": [
      "[[ 79  80  82 ... 133 148 156]\n",
      " [ 78  79  81 ... 138 156 164]\n",
      " [ 76  77  79 ... 147 170 180]\n",
      " ...\n",
      " [181 181 182 ... 174 172 171]\n",
      " [178 178 178 ... 180 179 178]\n",
      " [177 177 177 ... 183 182 182]]\n"
     ]
    }
   ],
   "source": [
    "import numpy as np\n",
    "import cv2\n",
    "\n",
    "map = cv2.imread('map.png', 0)\n",
    "HEIGHT, WIDTH = map.shape\n",
    "print(map)\n",
    "\n",
    "rx, ry, rtheta = (WIDTH/4, HEIGHT/4, 0)"
   ]
  },
  {
   "cell_type": "markdown",
   "metadata": {},
   "source": [
    "Map coordinate system\n",
    "\n",
    "![title](images/coords.png)\n",
    "\n",
    "CAUTION: The terrain height at X,Y coordinates is map(Y,X)."
   ]
  },
  {
   "cell_type": "markdown",
   "metadata": {},
   "source": [
    "Read keyboard input."
   ]
  },
  {
   "cell_type": "code",
   "execution_count": 2,
   "metadata": {},
   "outputs": [],
   "source": [
    "STEP = 5\n",
    "TURN = np.radians(25)\n",
    "\n",
    "def get_input():\n",
    "\tfwd = 0\n",
    "\tturn = 0\n",
    "\thalt = False\n",
    "\tk = cv2.waitKey(0)\n",
    "\tif k == 82:\n",
    "\t\tfwd = STEP\n",
    "\telif k == 83:\n",
    "\t\tturn = TURN\n",
    "\telif k == 81:\n",
    "\t\tturn = -TURN\n",
    "\telse:\n",
    "\t\thalt = True\n",
    "\treturn fwd, turn, halt"
   ]
  },
  {
   "cell_type": "markdown",
   "metadata": {},
   "source": [
    "Move the robot, with Gausssian noise.\n",
    "\n",
    "![title](images/gaussian.png)"
   ]
  },
  {
   "cell_type": "code",
   "execution_count": 3,
   "metadata": {},
   "outputs": [],
   "source": [
    "SIGMA_STEP = 0.5\n",
    "SIGMA_TURN = np.radians(5)\n",
    "\n",
    "def move_robot(rx, ry, rtheta, fwd, turn):\n",
    "\tfwd_noisy = np.random.normal(fwd, SIGMA_STEP, 1)\n",
    "\trx += fwd_noisy * np.cos(rtheta)\n",
    "\try += fwd_noisy * np.sin(rtheta)\n",
    "\tprint(\"fwd_noisy = \", fwd_noisy)\n",
    "\n",
    "\tturn_noisy = np.random.normal(turn, SIGMA_TURN, 1)\n",
    "\trtheta += turn_noisy\n",
    "\tprint(\"turn_noisy = \", np.degrees(turn_noisy))\n",
    "\n",
    "\treturn rx, ry, rtheta"
   ]
  },
  {
   "cell_type": "markdown",
   "metadata": {},
   "source": [
    "Initialize particle cloud."
   ]
  },
  {
   "cell_type": "code",
   "execution_count": 4,
   "metadata": {},
   "outputs": [],
   "source": [
    "NUM_PARTICLES = 3000\n",
    "\n",
    "def init():\n",
    "\tparticles = np.random.rand(NUM_PARTICLES, 3)\n",
    "\tparticles *= np.array( (WIDTH, HEIGHT, np.radians(360)))\n",
    "\treturn particles "
   ]
  },
  {
   "cell_type": "markdown",
   "metadata": {},
   "source": [
    "Move the particles."
   ]
  },
  {
   "cell_type": "code",
   "execution_count": 5,
   "metadata": {},
   "outputs": [],
   "source": [
    "def move_particles(particles, fwd, turn):\n",
    "\tparticles[:, 0] += fwd*np.cos(particles[:, 2])\n",
    "\tparticles[:, 1] += fwd*np.sin(particles[:, 2])\n",
    "\tparticles[:, 2] += turn\n",
    "   \n",
    "\tparticles[:, 0] = np.clip(particles[:, 0], 0.0, WIDTH-1)\n",
    "\tparticles[:, 1] = np.clip(particles[:, 1], 0.0, HEIGHT-1)\n",
    "\n",
    "\treturn particles"
   ]
  },
  {
   "cell_type": "markdown",
   "metadata": {},
   "source": [
    "Get value from robot's sensor."
   ]
  },
  {
   "cell_type": "code",
   "execution_count": 6,
   "metadata": {},
   "outputs": [],
   "source": [
    "SIGMA_SENSOR = 2\n",
    "def sense(x, y, noisy=False):\n",
    "\tx = int(x)\n",
    "\ty = int(y)\n",
    "\tif noisy:\n",
    "\t\treturn np.random.normal(map[y, x], SIGMA_SENSOR, 1)\n",
    "\treturn map[y, x]"
   ]
  },
  {
   "cell_type": "markdown",
   "metadata": {},
   "source": [
    "Compute particle weights."
   ]
  },
  {
   "cell_type": "code",
   "execution_count": 7,
   "metadata": {},
   "outputs": [],
   "source": [
    "def compute_weights(particles, robot_sensor):    \n",
    "\terrors = np.zeroes(NUM_PARTICLES)\n",
    "\tfor i in range(NUM_PARTICLES):\n",
    "\t\televation = sense(particles[i, 0], particles[i, 1], noisy=False)\n",
    "\t\terrors[i] = abs(robot_sensor - elevation)\n",
    "\tweights = np.max(errors) - errors\n",
    "\n",
    "\tweights[\n",
    "\t\t(particles[:, 0] == 0) |\n",
    "\t\t(particles[:, 0] == WIDTH-1) |\n",
    "\t\t(particles[:, 1] == 0) |\n",
    "\t\t(particles[:, 1] == HEIGHT-1) \n",
    "\t] = 0.0\n",
    "\n",
    "\tweights = weights ** 3\n",
    "\treturn weights"
   ]
  },
  {
   "cell_type": "markdown",
   "metadata": {},
   "source": [
    "Resample the particles."
   ]
  },
  {
   "cell_type": "code",
   "execution_count": 8,
   "metadata": {},
   "outputs": [],
   "source": [
    "def resample(particles, weights):\n",
    "\tprobabilities = weights / np.sum(weights)\n",
    "\tnew_index = np.random.choice(\n",
    "\t\tNUM_PARTICLES,\n",
    "\t\tsize = NUM_PARTICLES,\n",
    "\t\tp = probabilities\n",
    "\t)\n",
    "\tparticles = particles[new_index, :]\n",
    "\treturn particles"
   ]
  },
  {
   "cell_type": "markdown",
   "metadata": {},
   "source": [
    "Add noise to the particles."
   ]
  },
  {
   "cell_type": "code",
   "execution_count": 9,
   "metadata": {},
   "outputs": [],
   "source": [
    "SIGMA_POS = 2\n",
    "SIGMA_TURN = np.radians(10)\n",
    "\n",
    "def add_noise(particles):\n",
    "\tnoise = np.concatenate(\n",
    "\t\t(\n",
    "\t\t\tnp.random.normal(0, SIGMA_POS, (NUM_PARTICLES, 1)),\n",
    "\t\t\tnp.random.normal(0, SIGMA_POS, (NUM_PARTICLES, 1)),\n",
    "\t\t\tnp.random.normal(0, SIGMA_TURN, (NUM_PARTICLES, 1)),\n",
    "\t\t),\n",
    "\t\taxis=1\n",
    "\t)\n",
    "\tparticles += noise\n",
    "\treturn particles"
   ]
  },
  {
   "cell_type": "markdown",
   "metadata": {},
   "source": [
    "Display robot, particles and best guess."
   ]
  },
  {
   "cell_type": "code",
   "execution_count": 10,
   "metadata": {},
   "outputs": [],
   "source": [
    "def display(map, rx, ry, particles):\n",
    "    lmap = cv2.cvtColor(map, cv2.COLOR_GRAY2BGR)\n",
    "    \n",
    "    # Display particles\n",
    "    if len(particles) > 0:\n",
    "        for i in range(NUM_PARTICLES):\n",
    "            cv2.circle(lmap, \n",
    "                       (int(particles[i,0]), int(particles[i,1])), \n",
    "                       1, \n",
    "                       (255,0,0), \n",
    "                       1)\n",
    "        \n",
    "    # Display robot\n",
    "    cv2.circle(lmap, (int(rx), int(ry)), 5, (0,255,0), 10)\n",
    "\n",
    "    # Display best guess\n",
    "    if len(particles) > 0:\n",
    "        px = np.mean(particles[:,0])\n",
    "        py = np.mean(particles[:,1])\n",
    "        cv2.circle(lmap, (int(px), int(py)), 5, (0,0,255), 5)\n",
    "\n",
    "    cv2.imshow('map', lmap)"
   ]
  },
  {
   "cell_type": "markdown",
   "metadata": {},
   "source": [
    "Main routine."
   ]
  },
  {
   "cell_type": "code",
   "execution_count": null,
   "metadata": {},
   "outputs": [],
   "source": [
    "particles = init()\n",
    "while True:\n",
    "    display(map, rx, ry, particles)\n",
    "    fwd, turn, halt = get_input()\n",
    "    if halt:\n",
    "        break\n",
    "    rx, ry, rtheta = move_robot(rx, ry, rtheta, fwd, turn)\n",
    "    particles = move_particles(particles, fwd, turn)\n",
    "    if fwd != 0:\n",
    "        robot_sensor = sense(rx, ry, noisy=True)        \n",
    "        weights = compute_weights(particles, robot_sensor)\n",
    "        particles = resample(particles, weights)\n",
    "        particles = add_noise(particles)\n",
    "    \n",
    "cv2.destroyAllWindows()                        "
   ]
  }
 ],
 "metadata": {
  "kernelspec": {
   "display_name": "base",
   "language": "python",
   "name": "python3"
  },
  "language_info": {
   "codemirror_mode": {
    "name": "ipython",
    "version": 3
   },
   "file_extension": ".py",
   "mimetype": "text/x-python",
   "name": "python",
   "nbconvert_exporter": "python",
   "pygments_lexer": "ipython3",
   "version": "3.11.5"
  }
 },
 "nbformat": 4,
 "nbformat_minor": 4
}
