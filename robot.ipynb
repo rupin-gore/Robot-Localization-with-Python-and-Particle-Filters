{
 "cells": [
  {
   "cell_type": "markdown",
   "metadata": {},
   "source": [
    "Robot Localization with Python and Particle Filters\n",
    "==================================================="
   ]
  },
  {
   "cell_type": "markdown",
   "metadata": {},
   "source": [
    "Import libraries and load map."
   ]
  },
  {
   "cell_type": "code",
   "execution_count": 1,
   "metadata": {},
   "outputs": [],
   "source": []
  },
  {
   "cell_type": "markdown",
   "metadata": {},
   "source": [
    "Map coordinate system\n",
    "\n",
    "![title](images/coords.png)\n",
    "\n",
    "CAUTION: The terrain height at X,Y coordinates is map(Y,X)."
   ]
  },
  {
   "cell_type": "markdown",
   "metadata": {},
   "source": [
    "Read keyboard input."
   ]
  },
  {
   "cell_type": "code",
   "execution_count": 36,
   "metadata": {},
   "outputs": [],
   "source": [
    "\n",
    "def get_input():\n",
    "\n",
    "    return fwd, turn, halt"
   ]
  },
  {
   "cell_type": "markdown",
   "metadata": {},
   "source": [
    "Move the robot, with Gausssian noise.\n",
    "\n",
    "![title](images/gaussian.png)"
   ]
  },
  {
   "cell_type": "code",
   "execution_count": 37,
   "metadata": {},
   "outputs": [],
   "source": [
    "\n",
    "def move_robot(rx, ry, rtheta, fwd, turn):\n",
    "\n",
    "    return rx, ry, rtheta"
   ]
  },
  {
   "cell_type": "markdown",
   "metadata": {},
   "source": [
    "Initialize particle cloud."
   ]
  },
  {
   "cell_type": "code",
   "execution_count": 38,
   "metadata": {},
   "outputs": [],
   "source": [
    "\n",
    "def init():\n",
    "\n",
    "    return ()"
   ]
  },
  {
   "cell_type": "markdown",
   "metadata": {},
   "source": [
    "Move the particles."
   ]
  },
  {
   "cell_type": "code",
   "execution_count": 39,
   "metadata": {},
   "outputs": [],
   "source": [
    "def move_particles(particles, fwd, turn):\n",
    "\n",
    "    return particles"
   ]
  },
  {
   "cell_type": "markdown",
   "metadata": {},
   "source": [
    "Get value from robot's sensor."
   ]
  },
  {
   "cell_type": "code",
   "execution_count": 40,
   "metadata": {},
   "outputs": [],
   "source": [
    "def sense(x, y, noisy=False):\n",
    "\n",
    "    return 0"
   ]
  },
  {
   "cell_type": "markdown",
   "metadata": {},
   "source": [
    "Compute particle weights."
   ]
  },
  {
   "cell_type": "code",
   "execution_count": 41,
   "metadata": {},
   "outputs": [],
   "source": [
    "def compute_weights(particles, robot_sensor):    \n",
    "\n",
    "    return ()"
   ]
  },
  {
   "cell_type": "markdown",
   "metadata": {},
   "source": [
    "Resample the particles."
   ]
  },
  {
   "cell_type": "code",
   "execution_count": 42,
   "metadata": {},
   "outputs": [],
   "source": [
    "def resample(particles, weights):\n",
    "\n",
    "    return particles"
   ]
  },
  {
   "cell_type": "markdown",
   "metadata": {},
   "source": [
    "Add noise to the particles."
   ]
  },
  {
   "cell_type": "code",
   "execution_count": 43,
   "metadata": {},
   "outputs": [],
   "source": [
    "def add_noise(particles):\n",
    "\n",
    "    return particles"
   ]
  },
  {
   "cell_type": "markdown",
   "metadata": {},
   "source": [
    "Display robot, particles and best guess."
   ]
  },
  {
   "cell_type": "code",
   "execution_count": 44,
   "metadata": {},
   "outputs": [],
   "source": [
    "def display(map, rx, ry, particles):\n",
    "    lmap = cv2.cvtColor(map, cv2.COLOR_GRAY2BGR)\n",
    "    \n",
    "    # Display particles\n",
    "    if len(particles) > 0:\n",
    "        for i in range(NUM_PARTICLES):\n",
    "            cv2.circle(lmap, \n",
    "                       (int(particles[i,0]), int(particles[i,1])), \n",
    "                       1, \n",
    "                       (255,0,0), \n",
    "                       1)\n",
    "        \n",
    "    # Display robot\n",
    "    cv2.circle(lmap, (int(rx), int(ry)), 5, (0,255,0), 10)\n",
    "\n",
    "    # Display best guess\n",
    "    if len(particles) > 0:\n",
    "        px = np.mean(particles[:,0])\n",
    "        py = np.mean(particles[:,1])\n",
    "        cv2.circle(lmap, (int(px), int(py)), 5, (0,0,255), 5)\n",
    "\n",
    "    cv2.imshow('map', lmap)"
   ]
  },
  {
   "cell_type": "markdown",
   "metadata": {},
   "source": [
    "Main routine."
   ]
  },
  {
   "cell_type": "code",
   "execution_count": 45,
   "metadata": {},
   "outputs": [],
   "source": [
    "particles = init()\n",
    "while True:\n",
    "    display(map, rx, ry, particles)\n",
    "    fwd, turn, halt = get_input()\n",
    "    if halt:\n",
    "        break\n",
    "    rx, ry, rtheta = move_robot(rx, ry, rtheta, fwd, turn)\n",
    "    particles = move_particles(particles, fwd, turn)\n",
    "    if fwd != 0:\n",
    "        robot_sensor = sense(rx, ry, noisy=True)        \n",
    "        weights = compute_weights(particles, robot_sensor)\n",
    "        particles = resample(particles, weights)\n",
    "        particles = add_noise(particles)\n",
    "    \n",
    "cv2.destroyAllWindows()                        \n"
   ]
  }
 ],
 "metadata": {
  "kernelspec": {
   "display_name": "Python 3 (ipykernel)",
   "language": "python",
   "name": "python3"
  },
  "language_info": {
   "codemirror_mode": {
    "name": "ipython",
    "version": 3
   },
   "file_extension": ".py",
   "mimetype": "text/x-python",
   "name": "python",
   "nbconvert_exporter": "python",
   "pygments_lexer": "ipython3",
   "version": "3.10.6"
  }
 },
 "nbformat": 4,
 "nbformat_minor": 4
}
